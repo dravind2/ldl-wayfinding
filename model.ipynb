{
 "cells": [
  {
   "cell_type": "code",
   "execution_count": 9,
   "metadata": {},
   "outputs": [
    {
     "name": "stdout",
     "output_type": "stream",
     "text": [
      "Requirement already satisfied: pandas in ./wayfinding-env/lib/python3.10/site-packages (2.2.2)\n",
      "Requirement already satisfied: numpy>=1.22.4 in ./wayfinding-env/lib/python3.10/site-packages (from pandas) (2.0.0)\n",
      "Requirement already satisfied: python-dateutil>=2.8.2 in ./wayfinding-env/lib/python3.10/site-packages (from pandas) (2.9.0.post0)\n",
      "Requirement already satisfied: pytz>=2020.1 in ./wayfinding-env/lib/python3.10/site-packages (from pandas) (2024.1)\n",
      "Requirement already satisfied: tzdata>=2022.7 in ./wayfinding-env/lib/python3.10/site-packages (from pandas) (2024.1)\n",
      "Requirement already satisfied: six>=1.5 in ./wayfinding-env/lib/python3.10/site-packages (from python-dateutil>=2.8.2->pandas) (1.16.0)\n",
      "\n",
      "\u001b[1m[\u001b[0m\u001b[34;49mnotice\u001b[0m\u001b[1;39;49m]\u001b[0m\u001b[39;49m A new release of pip is available: \u001b[0m\u001b[31;49m24.0\u001b[0m\u001b[39;49m -> \u001b[0m\u001b[32;49m24.1.1\u001b[0m\n",
      "\u001b[1m[\u001b[0m\u001b[34;49mnotice\u001b[0m\u001b[1;39;49m]\u001b[0m\u001b[39;49m To update, run: \u001b[0m\u001b[32;49mpip install --upgrade pip\u001b[0m\n",
      "Note: you may need to restart the kernel to use updated packages.\n"
     ]
    }
   ],
   "source": [
    "import random\n",
    "# install pandas with pip install pandas\n",
    "%pip install pandas\n",
    "import pandas as pd\n",
    "\n",
    "location = [\"On campus\", \"Off campus (D.C.)\"]\n",
    "year = [\"First\", \"Sophomore\", \"Junior\", \"Senior\", \"Graduate\"]\n",
    "racial_group = [\"Latine\", \"Black\", \"Caucasian\", \"Asian\"]\n",
    "employer_preference = [\"Internships\", \"Corporate based events\"]\n",
    "academia_vs_alumni = [\"Higher academia pathways\", \"Connect with alumni\"]\n",
    "event_type_preferences = [\"In-person\", \"Virtual\"]\n",
    "event_style_preferences = [\"Panel\", \"Workshop\"]\n",
    "panel_type = [\"Network\", \"Q&A\"] # empty if panel is not selected\n",
    "workshop_type = [\"Resume\", \"Interview\"] # empty if workshop is not selected\n",
    "special_groups = [\"Race\",\"FLI\",\"LGBTQ+\",\"Neurodivergency\",\"International student\",\"None (Please rank first if no subjects are of interest)\"]\n",
    "subject_preferences = [\"Consulting\", \"Finance\", \"Bio-tech\",\"Pre-Health\",\"Medical School\",\"Current Major/Academic pathway (Please rank first if no subjects interest you)\"]\n",
    "\n",
    "\n",
    "    "
   ]
  },
  {
   "cell_type": "code",
   "execution_count": null,
   "metadata": {},
   "outputs": [],
   "source": []
  },
  {
   "cell_type": "code",
   "execution_count": 10,
   "metadata": {},
   "outputs": [],
   "source": [
    "# using the information from the previous cell, generate 100 random students with the conditions and all of the variables above. condense this into a csv file\n",
    "# make sure that panel_type is empty if workshop is selected and workshop_type is empty if panel is selected\n",
    "# for subject_preferences and special_groups, rank all of them in a specific order and make that a category in the csv as well\n",
    "# for the event_type_preferences, make sure that if the student prefers in-person, they cannot prefer virtual and vice versa\n",
    "# for the event_style_preferences, make sure that if the student prefers panel, they cannot prefer workshop and vice versa\n",
    "# for the employer_preference, make sure that the student cannot prefer both internships and corporate based events\n",
    "\n",
    "students = []\n",
    "for i in range(100):\n",
    "    event_pref = random.choice(event_style_preferences)\n",
    "    \n",
    "    student = {\n",
    "        \"location\": random.choice(location),\n",
    "        \"year\": random.choice(year),\n",
    "        \"racial_group\": random.choice(racial_group),\n",
    "        \"employer_preference\": random.choice(employer_preference),\n",
    "        \"academia_vs_alumni\": random.choice(academia_vs_alumni),\n",
    "        \"event_type_preferences\": random.choice(event_type_preferences),\n",
    "        \"event_style_preferences\": event_pref,\n",
    "        # if \"event_style_preferences\" variable is \"Panel\" then do panel type, if \"Workshop\" then do workshop type\n",
    "        \"panel_type\": random.choice(panel_type) if event_pref == \"Panel\" else \"\",\n",
    "        \"workshop_type\": random.choice(workshop_type) if event_pref == \"Workshop\" else \"\",\n",
    "        #special groups and subject preferences should be a list of all the special groups in a random order\n",
    "        \"special_groups\": random.sample(special_groups, len(special_groups)),\n",
    "        \"subject_preferences\": random.sample(subject_preferences, len(subject_preferences))\n",
    "    }\n",
    "    students.append(student)\n",
    "\n",
    "# generate a csv file with the students\n",
    "df = pd.DataFrame(students)\n",
    "df.to_csv(\"students.csv\")"
   ]
  }
 ],
 "metadata": {
  "kernelspec": {
   "display_name": "wayfinding-env",
   "language": "python",
   "name": "python3"
  },
  "language_info": {
   "codemirror_mode": {
    "name": "ipython",
    "version": 3
   },
   "file_extension": ".py",
   "mimetype": "text/x-python",
   "name": "python",
   "nbconvert_exporter": "python",
   "pygments_lexer": "ipython3",
   "version": "3.10.11"
  }
 },
 "nbformat": 4,
 "nbformat_minor": 2
}
